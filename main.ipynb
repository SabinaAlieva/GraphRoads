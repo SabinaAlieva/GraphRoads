{
 "cells": [
  {
   "cell_type": "code",
   "execution_count": null,
   "metadata": {
    "collapsed": true
   },
   "outputs": [],
   "source": [
    "from lxml import etree, objectify\n",
    "import matplotlib.pyplot as plt\n",
    "import numpy as np\n",
    "import csv\n",
    "\n",
    "FILENAME = \"sochi2.xml\"\n",
    "\n",
    "with open(FILENAME) as f:\n",
    "    xml = f.read()\n",
    "    \n",
    "root = objectify.fromstring(xml)\n",
    "\n",
    "road = []           #текущий массив\n",
    "roads = []          #массив с количеством дорог, в каждой дороге указаны узлы\n",
    "\n",
    "way = root.way\n",
    "for row in way:     #проход по каждой дороге\n",
    "    tag = row.find(\"tag\")\n",
    "    if not (tag is None) and tag.attrib['k'] == 'highway':\n",
    "        nd = row.nd          #список узлов\n",
    "        for ref in nd:       #пробег по каждому узлу\n",
    "            road.append(float(ref.attrib['ref']))\n",
    "        roads.append(road)\n",
    "        road = []\n",
    "        \n",
    "node = root.node             #список всех узлов\n",
    "#словарь, по номеру узла выдает координаты\n",
    "nodes = {float(row.attrib['id']): [float(row.attrib['lat']), float(row.attrib['lon'])] for row in node}  "
   ]
  },
  {
   "cell_type": "code",
   "execution_count": null,
   "metadata": {},
   "outputs": [],
   "source": [
    "fig = plt.gcf()\n",
    "fig.set_size_inches(56, 41)    #установка большого размера полотна\n",
    "Lon_Lat = []\n",
    "\n",
    "for road in roads:                 #проход по всем дорогам\n",
    "    for index_node_in_road in road:     #проход по всем индексам узлов в дорогах\n",
    "        Lon_Lat.append([nodes.get(index_node_in_road)[1], nodes.get(index_node_in_road)[0]])\n",
    "    Lon_Lat = np.array(Lon_Lat)   \n",
    "    plt.plot(Lon_Lat[::, 0], Lon_Lat[::, 1], 'blue')\n",
    "    Lon_Lat = []\n",
    "    \n",
    "fig.set_size_inches(56, 41, forward=True)\n",
    "fig.savefig('test_sochi3.png', dpi=100)\n",
    "plt.show()"
   ]
  },
  {
   "cell_type": "code",
   "execution_count": null,
   "metadata": {},
   "outputs": [],
   "source": [
    "#словарь, в котором номеру узла соответствует количество его вхождений в дороги\n",
    "count_node_in_roads = {float(row.attrib['id']): 0 for row in node}\n",
    "\n",
    "for road in roads:\n",
    "    for nd in road:\n",
    "        count_node_in_roads[float(nd)] = count_node_in_roads[float(nd)] + 1\n",
    "        \n",
    "#словарь, в котором номеру узла соответствует количество ребер ему инцидентных \n",
    "count_edge_in_roads = {float(row.attrib['id']): 0 for row in node}\n",
    "for road in roads:\n",
    "    for i in range(len(road) - 1):\n",
    "        count_edge_in_roads[road[i]] = count_edge_in_roads[road[i]] + 1\n",
    "        count_edge_in_roads[road[i + 1]] = count_edge_in_roads[road[i + 1]] + 1\n",
    "        \n",
    "#массив необходимых к удалению узлов\n",
    "nodes_to_delete = []\n",
    "for nd in nodes:\n",
    "    if count_node_in_roads[nd] == 0 or (count_node_in_roads[float(nd)] == 1 and count_edge_in_roads[float(nd)] == 2):\n",
    "        nodes_to_delete.append(nd)\n",
    "    \n",
    "#удаление лишних узлов\n",
    "for nd in nodes_to_delete:\n",
    "    nodes.pop(nd)"
   ]
  },
  {
   "cell_type": "code",
   "execution_count": null,
   "metadata": {},
   "outputs": [],
   "source": [
    "#словарь списка смежности\n",
    "list_adj = {nd:[] for nd in nodes}\n",
    "\n",
    "row = []\n",
    "\n",
    "for road in roads:\n",
    "    for nd in road:\n",
    "        if nd in nodes:        #если узел в этой дороге не лишний, записываем в текущую строку\n",
    "            row.append(nd)\n",
    "    for i in range(len(row) - 1):   #две соседние точки в троке образуют ребро, запишем это в список\n",
    "        list_adj[row[i]].append(float(row[i+1]))\n",
    "        list_adj[row[i+1]].append(float(row[i]))\n",
    "    row = []"
   ]
  },
  {
   "cell_type": "code",
   "execution_count": null,
   "metadata": {},
   "outputs": [],
   "source": [
    "#убираем повторения в списке смежности\n",
    "for key in list_adj:\n",
    "    list_adj[key] = list(set(list_adj[key]))"
   ]
  },
  {
   "cell_type": "code",
   "execution_count": null,
   "metadata": {},
   "outputs": [],
   "source": [
    "#записываем список смежности\n",
    "line_csv = []\n",
    "with open(\"list_sochi.csv\", \"w\") as csv_file:\n",
    "    writer = csv.writer(csv_file, delimiter=',')\n",
    "    for key in list_adj:\n",
    "        line_csv.append(key)\n",
    "        for r in list_adj[key]:\n",
    "            line_csv.append(r)\n",
    "        writer.writerow(line_csv)\n",
    "        line_csv = []\n",
    "        "
   ]
  },
  {
   "cell_type": "code",
   "execution_count": null,
   "metadata": {},
   "outputs": [],
   "source": [
    "#записываем матрицу смежности\n",
    "import csv\n",
    "\n",
    "line = []\n",
    "lline = np.zeros(len(list_adj) + 1)      \n",
    "\n",
    "with open(\"matr_sochi.csv\", \"w\") as csv_file:\n",
    "    writer = csv.writer(csv_file, delimiter=',')\n",
    "    \n",
    "    line.append(0)\n",
    "    for key in list_adj:\n",
    "        line.append(key)\n",
    "    writer.writerow(line)\n",
    "    \n",
    "    for key in list_adj:\n",
    "        for nd in list_adj[key]:\n",
    "            lline[0] = key\n",
    "            lline[line.index(nd)] = 1\n",
    "        writer.writerow(lline)\n",
    "        lline = np.zeros(len(list_adj) + 1)      "
   ]
  }
 ],
 "metadata": {
  "kernelspec": {
   "display_name": "Python 2",
   "language": "python",
   "name": "python2"
  },
  "language_info": {
   "codemirror_mode": {
    "name": "ipython",
    "version": 2
   },
   "file_extension": ".py",
   "mimetype": "text/x-python",
   "name": "python",
   "nbconvert_exporter": "python",
   "pygments_lexer": "ipython2",
   "version": "2.7.14"
  }
 },
 "nbformat": 4,
 "nbformat_minor": 2
}
