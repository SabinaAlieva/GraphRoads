{
 "cells": [
  {
   "cell_type": "code",
   "execution_count": 1,
   "metadata": {},
   "outputs": [
    {
     "name": "stderr",
     "output_type": "stream",
     "text": [
      "/home/nbuser/anaconda2_501/lib/python2.7/site-packages/matplotlib/font_manager.py:279: UserWarning: Matplotlib is building the font cache using fc-list. This may take a moment.\n",
      "  'Matplotlib is building the font cache using fc-list. '\n"
     ]
    }
   ],
   "source": [
    "from lxml import etree, objectify\n",
    "import matplotlib.pyplot as plt\n",
    "import numpy as np\n",
    "import csv\n",
    "\n",
    "FILENAME = \"taganrog.xml\"\n",
    "\n",
    "with open(FILENAME) as f:\n",
    "    xml = f.read()\n",
    "    \n",
    "root = objectify.fromstring(xml)"
   ]
  },
  {
   "cell_type": "code",
   "execution_count": 2,
   "metadata": {},
   "outputs": [],
   "source": [
    "road = []           #текущий массив\n",
    "roads = []          #массив с дорогами, в каждой дороге указаны узлы\n",
    "\n",
    "way = root.way\n",
    "for row in way:     #проход по каждой дороге\n",
    "    tag = row.find(\"tag\")\n",
    "    if not (tag is None) and tag.attrib['k'] == 'highway':\n",
    "        nd = row.nd          #список узлов\n",
    "        for ref in nd:       #пробег по каждому узлу\n",
    "            road.append(int(ref.attrib['ref']))\n",
    "        roads.append(road)\n",
    "        road = []"
   ]
  },
  {
   "cell_type": "code",
   "execution_count": 3,
   "metadata": {},
   "outputs": [],
   "source": [
    "node = root.node             #список всех узлов\n",
    "\n",
    "#словарь, по номеру узла выдает координаты\n",
    "nodes = {int(row.attrib['id']): [float(row.attrib['lat']), float(row.attrib['lon'])] for row in node}"
   ]
  },
  {
   "cell_type": "code",
   "execution_count": 4,
   "metadata": {},
   "outputs": [],
   "source": [
    "#словарь, в котором номеру узла соответствует количество его вхождений в дороги\n",
    "count_node_in_roads = {int(row.attrib['id']): 0 for row in node}\n",
    "\n",
    "for road in roads:\n",
    "    for nd in road:\n",
    "        count_node_in_roads[int(nd)] = count_node_in_roads[int(nd)] + 1\n",
    "        \n",
    "#словарь, в котором номеру узла соответствует количество ребер ему инцидентных \n",
    "count_edge_in_roads = {int(row.attrib['id']): 0 for row in node}\n",
    "for road in roads:\n",
    "    for i in range(len(road) - 1):\n",
    "        count_edge_in_roads[road[i]] = count_edge_in_roads[road[i]] + 1\n",
    "        count_edge_in_roads[road[i + 1]] = count_edge_in_roads[road[i + 1]] + 1\n",
    "        \n",
    "#массив необходимых к удалению узлов\n",
    "nodes_to_delete = []\n",
    "for nd in nodes:\n",
    "    if count_node_in_roads[nd] == 0 or (count_node_in_roads[int(nd)] == 1 and count_edge_in_roads[int(nd)] == 2):\n",
    "        nodes_to_delete.append(nd)\n",
    "    \n",
    "#удаление лишних узлов\n",
    "for nd in nodes_to_delete:\n",
    "    nodes.pop(nd)"
   ]
  },
  {
   "cell_type": "code",
   "execution_count": 5,
   "metadata": {},
   "outputs": [],
   "source": [
    "#словарь списка смежности\n",
    "list_adj = {nd:[] for nd in nodes}\n",
    "\n",
    "row = []\n",
    "\n",
    "for road in roads:\n",
    "    for nd in road:\n",
    "        if nd in nodes:        #если узел в этой дороге не лишний, записываем в текущую строку\n",
    "            row.append(nd)\n",
    "    for i in range(len(row) - 1):   #две соседние точки в троке образуют ребро, запишем это в список\n",
    "        list_adj[row[i]].append(int(row[i+1]))\n",
    "        list_adj[row[i+1]].append(int(row[i]))\n",
    "    row = []\n",
    "    \n",
    "#убираем повторения в списке смежности\n",
    "for key in list_adj:\n",
    "    list_adj[key] = list(set(list_adj[key]))\n",
    "    \n",
    "    "
   ]
  },
  {
   "cell_type": "code",
   "execution_count": 6,
   "metadata": {},
   "outputs": [
    {
     "name": "stdout",
     "output_type": "stream",
     "text": [
      "8\n"
     ]
    }
   ],
   "source": [
    "#выбираем больницы\n",
    "hospitals = {}\n",
    "\n",
    "for nd in node:     #проход по каждому узлу\n",
    "    tag = nd.find(\"tag\")\n",
    "    if not (tag is None) and tag.attrib['v'] == 'hospital':\n",
    "        hospitals[int(nd.attrib['id'])] = [float(nd.attrib['lat']), float(nd.attrib['lon'])]\n",
    "        \n",
    "print len(hospitals)"
   ]
  },
  {
   "cell_type": "code",
   "execution_count": 7,
   "metadata": {},
   "outputs": [
    {
     "name": "stdout",
     "output_type": "stream",
     "text": [
      "[1130256950, 1499967459, 3975857985, 211530735, 3898358242, 5422015747, 479475678, 3806624937]\n"
     ]
    }
   ],
   "source": [
    "#ищем ближайшие к больницам узлы на дорогах\n",
    "import math\n",
    "\n",
    "target = []\n",
    "for h in hospitals:\n",
    "    min_w = 10000\n",
    "    nd_min = 0\n",
    "    for nd in nodes:\n",
    "        w = math.sqrt((nodes.get(nd)[0] - hospitals.get(h)[0])**2 + (nodes.get(nd)[1] - hospitals.get(h)[1])**2)\n",
    "        if w < min_w:\n",
    "            min_w = w\n",
    "            nd_mai = nd\n",
    "    target.append(nd_mai)\n",
    "    \n",
    "print target      "
   ]
  },
  {
   "cell_type": "code",
   "execution_count": 8,
   "metadata": {},
   "outputs": [
    {
     "name": "stdout",
     "output_type": "stream",
     "text": [
      "введите долготу между 38.84 и 38.96\n",
      "38.91554\n",
      "введите широту между 47.20 и 47.28\n",
      "47.21275\n"
     ]
    }
   ],
   "source": [
    "#интерфейс для ввода координат\n",
    "\n",
    "def Input_lon():\n",
    "    print ('введите долготу между 38.84 и 38.96')\n",
    "    global lon\n",
    "    lon = input()\n",
    "    if lon < 38.84  or lon > 38.96:\n",
    "        print ('введите долготу заново')\n",
    "        Input_lon()\n",
    "        \n",
    "def Input_lat():\n",
    "    print ('введите широту между 47.20 и 47.28')\n",
    "    global lat\n",
    "    lat = input()\n",
    "    if lat < 47.20 or lat > 47.28:\n",
    "        print ('введите широту заново')\n",
    "        Input_lat()\n",
    "        \n",
    "Input_lon()\n",
    "Input_lat()\n",
    "# 47.261885 \n",
    "# 38.908703\n",
    "\n",
    "#3 задание - координаты склада центрального рынка\n",
    "# 38.91554\n",
    "# 47.21275"
   ]
  },
  {
   "cell_type": "code",
   "execution_count": 9,
   "metadata": {},
   "outputs": [],
   "source": [
    "#ищем ближайшую к введенной координате точку на дороге\n",
    "min_w = 1000000\n",
    "for nd in nodes:\n",
    "    w = math.sqrt((nodes.get(nd)[0] - lat)**2 + (nodes.get(nd)[1] - lon)**2)\n",
    "    if w < min_w:\n",
    "        min_w = w\n",
    "        start = nd"
   ]
  },
  {
   "cell_type": "code",
   "execution_count": 10,
   "metadata": {},
   "outputs": [
    {
     "data": {
      "image/png": "[encoded data removed]",
      "text/plain": [
       "<matplotlib.figure.Figure at 0x7f229f3a0b90>"
      ]
     },
     "metadata": {},
     "output_type": "display_data"
    }
   ],
   "source": [
    "fig = plt.gcf()\n",
    "fig.set_size_inches(8, 12)    #установка большого размера полотна\n",
    "Lon_Lat = []\n",
    "\n",
    "# for key in list_adj:\n",
    "#     for nd in list_adj[key]:\n",
    "#         plt.plot([nodes[key][1],nodes[nd][1]], [nodes[key][0],nodes[nd][0]], 'blue')\n",
    "\n",
    "for h in hospitals:\n",
    "    plt.plot(hospitals.get(h)[1], hospitals.get(h)[0], 'ro')\n",
    "plt.plot(nodes.get(start)[1], nodes.get(start)[0],  'bo')\n",
    "\n",
    "plt.show()"
   ]
  },
  {
   "cell_type": "code",
   "execution_count": 11,
   "metadata": {},
   "outputs": [],
   "source": [
    "#Алгоритм Левита\n",
    "from collections import deque\n",
    "\n",
    "def Levita(a, b):\n",
    "    len_sh_way = {nd: 1000000 for nd in nodes} # вершине соответствует длина пути до нее \n",
    "    len_sh_way.update({a: 0})\n",
    "    \n",
    "    shortest_way = {nd: [] for nd in nodes} #кратчайший путь от вершины a\n",
    "    shortest_way.update({a: [a]})\n",
    "    \n",
    "    nodes_already_calc = [] # M0\n",
    "    common_queue = deque((a,))       # M1'\n",
    "    rush_queue = deque()         # M1''\n",
    "    \n",
    "    nodes_not_calc = [nd for nd in nodes] # M2\n",
    "    nodes_not_calc.remove(a)\n",
    "    \n",
    "    cur_node = a\n",
    "    \n",
    "    while(len(common_queue) > 0 or len(rush_queue) > 0):\n",
    "        if len(rush_queue) > 0:\n",
    "            cur_node = rush_queue.popleft()\n",
    "        else:\n",
    "            cur_node = common_queue.popleft()\n",
    "             \n",
    "        adj = list_adj.get(cur_node)\n",
    "        \n",
    "        for nd in adj:\n",
    "            w = math.sqrt((nodes.get(nd)[0] - nodes.get(cur_node)[0])**2 + (nodes.get(nd)[1] - nodes.get(cur_node)[1])**2)\n",
    "           \n",
    "            if nodes_not_calc.count(nd) > 0:\n",
    "                common_queue.append(nd)\n",
    "                nodes_not_calc.remove(nd)\n",
    "                \n",
    "                if len_sh_way.get(nd) > len_sh_way.get(cur_node) + w:\n",
    "                    \n",
    "                    len_sh_way.update({nd: len_sh_way.get(cur_node) + w})\n",
    "                    way = shortest_way.get(cur_node)[:]\n",
    "                    way.append(nd)\n",
    "                    shortest_way.update({nd: way})\n",
    "                          \n",
    "                \n",
    "            elif common_queue.count(nd) > 0 or rush_queue.count(nd) > 0:\n",
    "                if len_sh_way.get(nd) > len_sh_way.get(cur_node) + w:\n",
    "                    \n",
    "                    len_sh_way.update({nd: len_sh_way.get(cur_node) + w})\n",
    "                    way = shortest_way.get(cur_node)[:]\n",
    "                    way.append(nd)\n",
    "                    shortest_way.update({nd: way})\n",
    "                    \n",
    "            elif nodes_already_calc.count(nd) > 0 and len_sh_way.get(nd) > len_sh_way.get(cur_node) + w:\n",
    "                \n",
    "                rush_queue.append(nd)\n",
    "                nodes_already_calc.remove(nd)\n",
    "                \n",
    "                len_sh_way.update({nd: len_sh_way.get(cur_node) + w})\n",
    "                way = shortest_way.get(cur_node)[:]\n",
    "                way.append(nd)\n",
    "                shortest_way.update({nd: way})        \n",
    "                          \n",
    "        nodes_already_calc.append(cur_node)     \n",
    "                          \n",
    "    return(shortest_way.get(b))\n"
   ]
  },
  {
   "cell_type": "code",
   "execution_count": null,
   "metadata": {},
   "outputs": [],
   "source": [
    "#отрисовка в matplotlib для моих алгоритмов\n",
    "\n",
    "def PlotResult(a, b, way):\n",
    "    fig = plt.gcf()\n",
    "    fig.set_size_inches(8, 12)    #установка большого размера полотна\n",
    "    Lon_Lat = []\n",
    "\n",
    "    #общая карта\n",
    "#     for key in list_adj:\n",
    "#         for nd in list_adj[key]:\n",
    "#             plt.plot([nodes[key][1],nodes[nd][1]], [nodes[key][0],nodes[nd][0]], 'blue')\n",
    "\n",
    "    #граничные узлы\n",
    "    plt.plot(nodes.get(a)[1], nodes.get(a)[0], 'ro')\n",
    "    plt.plot(nodes.get(b)[1], nodes.get(b)[0], 'ro')\n",
    "\n",
    "    #путь\n",
    "    for nd in way:                 #проход по узлам найденного пути\n",
    "        Lon_Lat.append([nodes.get(nd)[1], nodes.get(nd)[0]])\n",
    "    Lon_Lat = np.array(Lon_Lat)   \n",
    "    plt.plot(Lon_Lat[::, 0], Lon_Lat[::, 1], 'red')\n",
    "    Lon_Lat = []\n",
    "\n",
    "\n",
    "    plt.show()\n",
    "    "
   ]
  },
  {
   "cell_type": "code",
   "execution_count": 12,
   "metadata": {},
   "outputs": [],
   "source": [
    "#граф в networkx\n",
    "import networkx as nx\n",
    "\n",
    "GG = nx.Graph()\n",
    "\n",
    "# добавляем узлы в граф\n",
    "for key in nodes:\n",
    "    GG.add_node(str(key),pos=tuple(nodes.get(key)))\n",
    "\n",
    "# добавляем ребра в граф\n",
    "for nd in list_adj:\n",
    "    for nod in list_adj.get(nd):\n",
    "        w = math.sqrt((nodes.get(nd)[1] + nodes.get(nod)[1])**2 + (nodes.get(nd)[0] + nodes.get(nod)[0])**2)\n",
    "        GG.add_edge(str(nd),str(nod),weight=w)\n",
    "                \n",
    "#словарь узлов для networkx\n",
    "nodesi = {str(key): [nodes.get(key)[1], nodes.get(key)[0]] for key in nodes}"
   ]
  },
  {
   "cell_type": "code",
   "execution_count": null,
   "metadata": {},
   "outputs": [],
   "source": [
    "#отрисовка графа в networkx\n",
    "def DrawGraph():\n",
    "    nx.draw_networkx(GG, pos=nodesi, node_size = 0.1, width = 0.2, with_labels = False)\n",
    "    plt.axis('on')\n",
    "    plt.show()"
   ]
  },
  {
   "cell_type": "code",
   "execution_count": null,
   "metadata": {},
   "outputs": [],
   "source": [
    "#отрисовка в networkx кратчайшего пути\n",
    "\n",
    "def DrawSaveShortestWay(GG, way, start, end):\n",
    "    nx.draw_networkx(GG, pos=nodesi, node_size = 0, width = 0.2, with_labels = False, node_color='black', edge_color='black')\n",
    "    h = GG.subgraph(way)\n",
    "    nx.draw_networkx_nodes(h,pos=nodesi, node_color='red', node_size = 2) \n",
    "    nx.draw_networkx_edges(h,pos=nodesi, edge_color='red', width = 2)\n",
    "    fig = plt.gcf()\n",
    "    fig.set_size_inches(8, 12)\n",
    "    plt.show()\n",
    "    filename = \"ShortestWay__\" + str(start) + \"__\" + str(end) + \".png\"\n",
    "    plt.savefig(filename, dpi = 100)\n",
    "    fig.clear()\n"
   ]
  },
  {
   "cell_type": "code",
   "execution_count": null,
   "metadata": {},
   "outputs": [],
   "source": [
    "#запись получисшихся маршрутов в файл\n",
    "\n",
    "def WriteCsvFile(start, target, way):\n",
    "    filename =  \"ShortestWay__\" + str(start) + \"__\" + str(target) + \".csv\"\n",
    "    with open(filename, \"a\") as file:\n",
    "        writer = csv.writer(file)\n",
    "        writer.writerow(way)"
   ]
  },
  {
   "cell_type": "code",
   "execution_count": null,
   "metadata": {},
   "outputs": [],
   "source": [
    "#маршруты до больниц с записью в файл и сохранением картинок\n",
    "\n",
    "for t in target:\n",
    "    Dejicstra = nx.dijkstra_path(GG, str(start), str(t))\n",
    "    DrawSaveShortestWay(GG, Dejicstra, str(start), str(t))\n",
    "    WriteCsvFile(str(start), str(t), Dejicstra)"
   ]
  },
  {
   "cell_type": "code",
   "execution_count": null,
   "metadata": {},
   "outputs": [],
   "source": [
    "#записываем в файл среднее время проезда до 100 вершин\n",
    "\n",
    "import csv\n",
    "import math\n",
    "\n",
    "#считываем с файла узлы\n",
    "filename =  \"Statistics__100__points\" + \".csv\"\n",
    "\n",
    "node100 = []\n",
    "with open(filename, \"r\") as file:\n",
    "    reader = csv.reader(file)\n",
    "    for row in reader:\n",
    "        node100.append(row[0])\n",
    "        \n",
    "    \n",
    "filename =  \"TimeWay__100__points\" + \".csv\"\n",
    "\n",
    "#шапочка файла\n",
    "fieldnames = ['idNode', 'time']\n",
    "\n",
    "#запись шапочки\n",
    "with open(filename, \"w\") as file:\n",
    "    writer = csv.DictWriter(file, delimiter=',', fieldnames=fieldnames)\n",
    "    writer.writeheader()\n",
    "    \n",
    "def csv_writer(path, fieldnames, data):\n",
    "    with open(path, \"a\") as out_file:\n",
    "        writer = csv.DictWriter(out_file, delimiter=',', fieldnames=fieldnames)\n",
    "        for row in data:\n",
    "            writer.writerow(row)\n",
    "\n",
    "# для всех этих узлов получаем кратчайший путь, рассчитываем его длину и умножаем на километраж градусов по широте и долготе            \n",
    "for nd in node100[1:]:\n",
    "    way = Levita(start, int(nd));\n",
    "    len_way_km = 0\n",
    "    for i in range(len(way)-1):\n",
    "        nd_1 = nodes.get(way[i])\n",
    "        nd_2 = nodes.get(way[i + 1])\n",
    "        len_way_km = len_way_km +  math.sqrt(((nd_1[0] - nd_2[0])**2)*76057 + ((nd_1[1] - nd_2[1])**2)*111000)\n",
    "    time = len_way_km/40\n",
    "    line = []\n",
    "    line_dict = []\n",
    "    line = [nd, time]\n",
    "    inner_dict = dict(zip(fieldnames, line))\n",
    "    line_dict.append(inner_dict)\n",
    "    csv_writer(filename, fieldnames, line_dict)"
   ]
  },
  {
   "cell_type": "code",
   "execution_count": 13,
   "metadata": {},
   "outputs": [
    {
     "name": "stdout",
     "output_type": "stream",
     "text": [
      "[1127283057, 211530735, 1130256950, 3898358242, 3975857985, 1499967459, 3806624937, 479475678, 5422015747]\n"
     ]
    }
   ],
   "source": [
    "#гамильтонов цикл минимального веса поиском ближайшего соседа\n",
    "from heapq import heappush, heappop\n",
    "\n",
    "hamilton = [start]   #цикл\n",
    "way_between = {nd:[] for nd in target}\n",
    "\n",
    "way_to = []     #дороги до текущего элемента cur_way\n",
    "to = [nd for nd in target]\n",
    "\n",
    "cur_way = 0\n",
    "len_cur_way = 0\n",
    "\n",
    "for useless in range(len(hospitals)):\n",
    "    \n",
    "    for nd in to:\n",
    "        cur_way = nx.dijkstra_path(GG, str(start), str(nd))\n",
    "        len_cur_way = 0\n",
    "        for i in range(len(cur_way)-1):\n",
    "            nd_1 = nodes.get(int(cur_way[i]))\n",
    "            nd_2 = nodes.get(int(cur_way[i + 1]))\n",
    "            len_cur_way = len_cur_way +  math.sqrt((nd_1[0] - nd_2[0])**2 + (nd_1[1] - nd_2[1])**2)\n",
    "\n",
    "        heappush(way_to, (len_cur_way, nd, cur_way))   #добавляем длину кратчайшего пути для вершины nd от текущей start\n",
    "    \n",
    "    next_node = heappop(way_to)[1]        #забираем вершину с минимальным весом\n",
    "    to.remove(next_node)                  #удаляем ее из списка еще не посещенных\n",
    "    hamilton.append(next_node)            #добавляем в цикл\n",
    "    start = next_node                     #теперь считать кратчайшие пути будем от нее\n",
    "    way_to = []\n",
    "    \n",
    "    \n",
    "print hamilton"
   ]
  },
  {
   "cell_type": "code",
   "execution_count": 14,
   "metadata": {},
   "outputs": [
    {
     "data": {
      "image/png": "[encoded data removed]",
      "text/plain": [
       "<matplotlib.figure.Figure at 0x7f229d2fa110>"
      ]
     },
     "metadata": {},
     "output_type": "display_data"
    },
    {
     "data": {
      "text/plain": [
       "<matplotlib.figure.Figure at 0x7f229cfe0290>"
      ]
     },
     "metadata": {},
     "output_type": "display_data"
    }
   ],
   "source": [
    "fig = plt.gcf()\n",
    "fig.set_size_inches(8, 12)    #установка большого размера полотна\n",
    "Lon_Lat = []\n",
    "\n",
    "all_way = []\n",
    "#путь\n",
    "for i in range(len(hamilton) - 1):\n",
    "    all_way.append(nx.dijkstra_path(GG, str(hamilton[i]), str(hamilton[i+1])))\n",
    "all_way.append(nx.dijkstra_path(GG, str(hamilton[0]), str(hamilton[-1])))\n",
    "    \n",
    "for nd in hamilton:\n",
    "    plt.plot(nodes.get(nd)[1], nodes.get(nd)[0], 'go')\n",
    "    \n",
    "for way in all_way:\n",
    "    for nd in way:                 #проход по узлам найденного пути\n",
    "        Lon_Lat.append([nodes.get(int(nd))[1], nodes.get(int(nd))[0]])\n",
    "    Lon_Lat = np.array(Lon_Lat)   \n",
    "    plt.plot(Lon_Lat[::, 0], Lon_Lat[::, 1], 'red')\n",
    "    Lon_Lat = []\n",
    "\n",
    "plt.show()\n",
    "plt.savefig(\"hamilton_my.png\",dpi = 100)"
   ]
  },
  {
   "cell_type": "code",
   "execution_count": 15,
   "metadata": {},
   "outputs": [
    {
     "name": "stdout",
     "output_type": "stream",
     "text": [
      "[(1130256950, 3898358242), (211530735, 1130256950), (3898358242, 3975857985), (1499967459, 3806624937), (1499967459, 3975857985), (211530735, 5422015747), (5422015747, 5422015747), (479475678, 3806624937), (479475678, 5422015747)]\n"
     ]
    }
   ],
   "source": [
    "#решение задачи коммивояжера методом добавления вершины в цикл\n",
    "\n",
    "#записываем все вершины для цикла\n",
    "node_to = [nd for nd in target]\n",
    "node_to.append(start)\n",
    "hamilton = list(tuple(node_to))\n",
    "size = len(node_to)  #количество вершин в графе\n",
    "\n",
    "#вес ребра\n",
    "def lenght_edge(i, j):\n",
    "    l = math.sqrt((nodes.get(int(i))[0] - nodes.get(int(j))[0])**2 + (nodes.get(int(i))[1] - nodes.get(int(j))[1])**2)\n",
    "    return l\n",
    "\n",
    "#длина маршрута между двумя точками в исходном графе\n",
    "def weight_way(way):\n",
    "    w = 0\n",
    "    for i in range(len(way) - 1):\n",
    "        w = w + lenght_edge(way[i], way[i+1])\n",
    "    return w\n",
    "\n",
    "#словарь, по ребру выдает его вес\n",
    "edges = {}\n",
    "for i in node_to:\n",
    "    for j in node_to:\n",
    "        t = tuple([i,j])\n",
    "        way = nx.dijkstra_path(GG, str(i), str(j))   #путь между этими вершинами в исходном графе\n",
    "        edges[t] = weight_way(way)  #его длина\n",
    "\n",
    "min_weight = 1000000;\n",
    "min_edge = () #ребро с минимальным весом, ищем для старта\n",
    "\n",
    "for key in edges:\n",
    "    if edges.get(key) < min_weight and edges.get(key)!=0 :\n",
    "        min_weight = edges.get(key)\n",
    "        min_edge = key\n",
    "        \n",
    "#чтобы было потом удобно искать по ребрам, устанавливаем порядок очередности вершин, от меньшей к большей\n",
    "if min_edge[0] > min_edge[1]:\n",
    "    min_edge = ((min_edge[1],min_edge[0]))\n",
    "    \n",
    "#удаляем из списка необходимых к посещению вершин те, которые образуют кратчайшее ребро\n",
    "node_to.remove(min_edge[0])    \n",
    "node_to.remove(min_edge[1])    \n",
    "\n",
    "\n",
    "cicle_edge = []    #цикл, записанный ребрами\n",
    "cicle_node = []    #вершины в цикле\n",
    "cicle_edge.append(min_edge)  \n",
    "cicle_node.append(min_edge[0])\n",
    "cicle_node.append(min_edge[1])\n",
    "\n",
    "    \n",
    "#вес цикла, на вход поступают имеющийся цикл, вершина, которую хотим добавить, ребро, которое хотим удалить\n",
    "def lenght_way(cicle_ed, nd, ed):\n",
    "    w = 0\n",
    "    w = w + edges.get((ed[0], nd)) #добавляем ребро с новой вершиной из одного конца ребра\n",
    "    w = w + edges.get((ed[1], nd)) #из другого\n",
    "    for nod in cicle_ed:\n",
    "        w = w + edges.get(nod)     #прибавляем просто веса всех ребер в этом цикле\n",
    "    w = w - edges.get(ed)          #вычитаем вес того, вместо которого добавляли новые\n",
    "    return w;\n",
    "    \n",
    "#из-за наличия стартового ребра, проходим циклом n-2 раза по точкам графа\n",
    "for useless in range(size - 2):\n",
    "    min_w_cicle = 1000000\n",
    "    ed_to_remove = ()\n",
    "    nd_to_add = 0\n",
    "    #для вершин, которые еще не в цикле\n",
    "    for nd in node_to:\n",
    "        for ed in cicle_edge: #для ребер, которые уже в цикле сравниваем\n",
    "            w = lenght_way(tuple(cicle_edge), nd, ed) #какое ребро будет выгоднее всего заменить двумя ребрами с новой вершиной\n",
    "            if w < min_w_cicle:\n",
    "                min_w_cicle = w\n",
    "                ed_to_remove = ed\n",
    "                nd_to_add = nd\n",
    "        \n",
    "    #снова располагаем в порядке возрастания координаты ребра для удобства удаления\n",
    "    if ed_to_remove[0] < nd_to_add:\n",
    "        cicle_edge.append((ed_to_remove[0], nd_to_add))\n",
    "    else:\n",
    "        cicle_edge.append((nd_to_add, ed_to_remove[0]))\n",
    "        \n",
    "    if ed_to_remove[1] < nd_to_add:\n",
    "        cicle_edge.append((ed_to_remove[1], nd_to_add))\n",
    "    else:\n",
    "        cicle_edge.append((nd_to_add, ed_to_remove[1]))\n",
    "       \n",
    "    #удаляем старое ребро\n",
    "    if useless != 0:\n",
    "        cicle_edge.remove(ed_to_remove)\n",
    "    #добавляем в список посещенных вершин новую\n",
    "    cicle_node.append(nd_to_add)\n",
    "    #удаляем из списка непосещенных новую\n",
    "    node_to.remove(nd_to_add)\n",
    "\n",
    "print cicle_edge"
   ]
  },
  {
   "cell_type": "code",
   "execution_count": 16,
   "metadata": {},
   "outputs": [
    {
     "data": {
      "image/png": "[encoded data removed]",
      "text/plain": [
       "<matplotlib.figure.Figure at 0x7f22a3fd35d0>"
      ]
     },
     "metadata": {},
     "output_type": "display_data"
    },
    {
     "data": {
      "text/plain": [
       "<matplotlib.figure.Figure at 0x7f229cfa2190>"
      ]
     },
     "metadata": {},
     "output_type": "display_data"
    }
   ],
   "source": [
    "fig = plt.gcf()\n",
    "fig.set_size_inches(8, 12)    #установка большого размера полотна\n",
    "Lon_Lat = []\n",
    "\n",
    "all_way = []\n",
    "#путь\n",
    "for t in cicle_edge:\n",
    "    all_way.append(nx.dijkstra_path(GG, str(t[0]), str(t[1])))\n",
    "    \n",
    "for nd in hamilton:\n",
    "    plt.plot(nodes.get(nd)[1], nodes.get(nd)[0], 'ro')\n",
    "    \n",
    "for way in all_way:\n",
    "    for nd in way:                 #проход по узлам найденного пути\n",
    "        Lon_Lat.append([nodes.get(int(nd))[1], nodes.get(int(nd))[0]])\n",
    "    Lon_Lat = np.array(Lon_Lat)   \n",
    "    plt.plot(Lon_Lat[::, 0], Lon_Lat[::, 1], 'blue')\n",
    "    Lon_Lat = []\n",
    "\n",
    "plt.show()\n",
    "plt.savefig(\"hamilton_my_2.png\",dpi = 100)"
   ]
  },
  {
   "cell_type": "code",
   "execution_count": null,
   "metadata": {},
   "outputs": [],
   "source": []
  }
 ],
 "metadata": {
  "kernelspec": {
   "display_name": "Python 2",
   "language": "python",
   "name": "python2"
  },
  "language_info": {
   "codemirror_mode": {
    "name": "ipython",
    "version": 2
   },
   "file_extension": ".py",
   "mimetype": "text/x-python",
   "name": "python",
   "nbconvert_exporter": "python",
   "pygments_lexer": "ipython2",
   "version": "2.7.14"
  }
 },
 "nbformat": 4,
 "nbformat_minor": 2
}
