{
 "cells": [
  {
   "cell_type": "code",
   "execution_count": 1,
   "metadata": {},
   "outputs": [],
   "source": [
    "from lxml import etree, objectify\n",
    "import matplotlib.pyplot as plt\n",
    "import numpy as np\n",
    "import csv\n",
    "\n",
    "FILENAME = \"taganrog.xml\"\n",
    "\n",
    "with open(FILENAME) as f:\n",
    "    xml = f.read()\n",
    "    \n",
    "root = objectify.fromstring(xml)"
   ]
  },
  {
   "cell_type": "code",
   "execution_count": 2,
   "metadata": {},
   "outputs": [],
   "source": [
    "road = []           #текущий массив\n",
    "roads = []          #массив с дорогами, в каждой дороге указаны узлы\n",
    "\n",
    "way = root.way\n",
    "for row in way:     #проход по каждой дороге\n",
    "    tag = row.find(\"tag\")\n",
    "    if not (tag is None) and tag.attrib['k'] == 'highway':\n",
    "        nd = row.nd          #список узлов\n",
    "        for ref in nd:       #пробег по каждому узлу\n",
    "            road.append(int(ref.attrib['ref']))\n",
    "        roads.append(road)\n",
    "        road = []"
   ]
  },
  {
   "cell_type": "code",
   "execution_count": 3,
   "metadata": {},
   "outputs": [],
   "source": [
    "node = root.node             #список всех узлов\n",
    "\n",
    "#словарь, по номеру узла выдает координаты\n",
    "nodes = {int(row.attrib['id']): [float(row.attrib['lat']), float(row.attrib['lon'])] for row in node}"
   ]
  },
  {
   "cell_type": "code",
   "execution_count": 4,
   "metadata": {},
   "outputs": [],
   "source": [
    "#словарь, в котором номеру узла соответствует количество его вхождений в дороги\n",
    "count_node_in_roads = {int(row.attrib['id']): 0 for row in node}\n",
    "\n",
    "for road in roads:\n",
    "    for nd in road:\n",
    "        count_node_in_roads[int(nd)] = count_node_in_roads[int(nd)] + 1\n",
    "        \n",
    "#словарь, в котором номеру узла соответствует количество ребер ему инцидентных \n",
    "count_edge_in_roads = {int(row.attrib['id']): 0 for row in node}\n",
    "for road in roads:\n",
    "    for i in range(len(road) - 1):\n",
    "        count_edge_in_roads[road[i]] = count_edge_in_roads[road[i]] + 1\n",
    "        count_edge_in_roads[road[i + 1]] = count_edge_in_roads[road[i + 1]] + 1\n",
    "        \n",
    "#массив необходимых к удалению узлов\n",
    "nodes_to_delete = []\n",
    "for nd in nodes:\n",
    "    if count_node_in_roads[nd] == 0 or (count_node_in_roads[int(nd)] == 1 and count_edge_in_roads[int(nd)] == 2):\n",
    "        nodes_to_delete.append(nd)\n",
    "    \n",
    "#удаление лишних узлов\n",
    "for nd in nodes_to_delete:\n",
    "    nodes.pop(nd)"
   ]
  },
  {
   "cell_type": "code",
   "execution_count": 5,
   "metadata": {},
   "outputs": [],
   "source": [
    "#словарь списка смежности\n",
    "list_adj = {nd:[] for nd in nodes}\n",
    "\n",
    "row = []\n",
    "\n",
    "for road in roads:\n",
    "    for nd in road:\n",
    "        if nd in nodes:        #если узел в этой дороге не лишний, записываем в текущую строку\n",
    "            row.append(nd)\n",
    "    for i in range(len(row) - 1):   #две соседние точки в троке образуют ребро, запишем это в список\n",
    "        list_adj[row[i]].append(int(row[i+1]))\n",
    "        list_adj[row[i+1]].append(int(row[i]))\n",
    "    row = []\n",
    "    \n",
    "#убираем повторения в списке смежности\n",
    "for key in list_adj:\n",
    "    list_adj[key] = list(set(list_adj[key]))\n",
    "    \n",
    "    "
   ]
  },
  {
   "cell_type": "code",
   "execution_count": 6,
   "metadata": {},
   "outputs": [],
   "source": [
    "#записываем список смежности\n",
    "line_csv = []\n",
    "with open(\"list_taganrog.csv\", \"w\") as csv_file:\n",
    "    writer = csv.writer(csv_file, delimiter=',')\n",
    "    for key in list_adj:\n",
    "        line_csv.append(key)\n",
    "        for r in list_adj[key]:\n",
    "            line_csv.append(r)\n",
    "        writer.writerow(line_csv)\n",
    "        line_csv = []"
   ]
  },
  {
   "cell_type": "code",
   "execution_count": 7,
   "metadata": {},
   "outputs": [
    {
     "name": "stdout",
     "output_type": "stream",
     "text": [
      "8\n"
     ]
    }
   ],
   "source": [
    "#выбираем больницы\n",
    "hospitals = {}\n",
    "\n",
    "for nd in node:     #проход по каждому узлу\n",
    "    tag = nd.find(\"tag\")\n",
    "    if not (tag is None) and tag.attrib['v'] == 'hospital':\n",
    "        hospitals[int(nd.attrib['id'])] = [float(nd.attrib['lat']), float(nd.attrib['lon'])]\n",
    "        \n",
    "print len(hospitals)"
   ]
  },
  {
   "cell_type": "code",
   "execution_count": 8,
   "metadata": {},
   "outputs": [
    {
     "name": "stdout",
     "output_type": "stream",
     "text": [
      "[1130256950, 1499967459, 3975857985, 211530735, 3898358242, 5422015747, 479475678, 3806624937]\n"
     ]
    }
   ],
   "source": [
    "#ищем ближайшие к больницам узлы на дорогах\n",
    "import math\n",
    "\n",
    "target = []\n",
    "for h in hospitals:\n",
    "    min_w = 10000\n",
    "    nd_min = 0\n",
    "    for nd in nodes:\n",
    "        w = math.sqrt((nodes.get(nd)[0] - hospitals.get(h)[0])**2 + (nodes.get(nd)[1] - hospitals.get(h)[1])**2)\n",
    "        if w < min_w:\n",
    "            min_w = w\n",
    "            nd_mai = nd\n",
    "    target.append(nd_mai)\n",
    "    \n",
    "print target      "
   ]
  },
  {
   "cell_type": "code",
   "execution_count": 10,
   "metadata": {
    "scrolled": true
   },
   "outputs": [
    {
     "name": "stdout",
     "output_type": "stream",
     "text": [
      "введите долготу между 38.84 и 38.96\n",
      "38.908703\n",
      "введите широту между 47.20 и 47.28\n",
      "47.261885 \n"
     ]
    }
   ],
   "source": [
    "#интерфейс для ввода координат\n",
    "\n",
    "def Input_lon():\n",
    "    print ('введите долготу между 38.84 и 38.96')\n",
    "    global lon\n",
    "    lon = input()\n",
    "    if lon < 38.84  or lon > 38.96:\n",
    "        print ('введите долготу заново')\n",
    "        Input_lon()\n",
    "        \n",
    "def Input_lat():\n",
    "    print ('введите широту между 47.20 и 47.28')\n",
    "    global lat\n",
    "    lat = input()\n",
    "    if lat < 47.20 or lat > 47.28:\n",
    "        print ('введите широту заново')\n",
    "        Input_lat()\n",
    "        \n",
    "Input_lon()\n",
    "Input_lat()\n",
    "# 47.261885 \n",
    "# 38.908703"
   ]
  },
  {
   "cell_type": "code",
   "execution_count": 11,
   "metadata": {},
   "outputs": [],
   "source": [
    "#ищем ближайшую к введенной координате точку на дороге\n",
    "min_w = 1000000\n",
    "for nd in nodes:\n",
    "    w = math.sqrt((nodes.get(nd)[0] - lat)**2 + (nodes.get(nd)[1] - lon)**2)\n",
    "    if w < min_w:\n",
    "        min_w = w\n",
    "        start = nd"
   ]
  },
  {
   "cell_type": "code",
   "execution_count": 12,
   "metadata": {},
   "outputs": [
    {
     "data": {
      "text/plain": [
       "75691169"
      ]
     },
     "execution_count": 12,
     "metadata": {},
     "output_type": "execute_result"
    }
   ],
   "source": [
    "start"
   ]
  },
  {
   "cell_type": "code",
   "execution_count": 13,
   "metadata": {},
   "outputs": [
    {
     "data": {
      "image/png": "[encoded data removed]",
      "text/plain": [
       "<matplotlib.figure.Figure at 0x7f8b3b689f10>"
      ]
     },
     "metadata": {},
     "output_type": "display_data"
    }
   ],
   "source": [
    "fig = plt.gcf()\n",
    "fig.set_size_inches(8, 12)    #установка большого размера полотна\n",
    "Lon_Lat = []\n",
    "\n",
    "# for key in list_adj:\n",
    "#     for nd in list_adj[key]:\n",
    "#         plt.plot([nodes[key][1],nodes[nd][1]], [nodes[key][0],nodes[nd][0]], 'blue')\n",
    "\n",
    "for h in hospitals:\n",
    "    plt.plot(hospitals.get(h)[1], hospitals.get(h)[0], 'ro')\n",
    "plt.plot(nodes.get(start)[1], nodes.get(start)[0],  'bo')\n",
    "\n",
    "plt.show()"
   ]
  },
  {
   "cell_type": "code",
   "execution_count": 14,
   "metadata": {},
   "outputs": [],
   "source": [
    "#алгоритм Дейкстры\n",
    "from heapq import heappush, heappop \n",
    "\n",
    "def Dejicstra(a, b):\n",
    "    \n",
    "    len_sh_way = {nd: 1000000 for nd in nodes} # вершине соответствует длина пути до нее \n",
    "    len_sh_way.update({a: 0})\n",
    "    \n",
    "    shortest_way = {nd: [] for nd in nodes} #кратчайший путь от вершины a\n",
    "    shortest_way.update({a: [a]})\n",
    "    \n",
    "    current_node = a\n",
    "    \n",
    "    nd_to_visit = []                 #ближайшие смежные\n",
    "    deleted = []                     #удаленные \n",
    "    nd_to_visit.append(a)\n",
    "    \n",
    "    sort_len = []  #очередь с приорететом: вес вершины - номер вершины\n",
    "    \n",
    "    while(1):\n",
    "        if current_node != b:   # если не конечная вершина\n",
    "            \n",
    "            sort_len = [len_sh_way.get(nd) for nd in nd_to_visit]  # делаем массив из весов оставшихся вершин\n",
    "            sort_len.sort()            # сортируем его, чтобы найти с наименьшим весом\n",
    "                     \n",
    "            for key in nd_to_visit: # ищем  вершину с минимальным весом\n",
    "                if len_sh_way.get(key) == sort_len[0]: \n",
    "                    current_node = key              # запоминаем ее\n",
    "                    deleted.append(key)             # добавляем в список удаленных\n",
    "                    break\n",
    "            \n",
    "            nd_to_vis = list(tuple(list_adj.get(current_node))) # получаем список вершин, с которыми смежна текущая\n",
    "            \n",
    "            for nd in nd_to_vis:           #добавляем их в список вершин для посещения\n",
    "                nd_to_visit.append(nd)\n",
    "            nd_to_visit = list(set(nd_to_visit)) # убираем повторения\n",
    "                \n",
    "            for nd in deleted:        # новые вершины могут быть смежны с вершинами, которые уже удалили\n",
    "                if nd_to_visit.count(nd) > 0:\n",
    "                    nd_to_visit.remove(nd)    \n",
    "            \n",
    "            for u in nd_to_visit:          #для всех остальных вершин    \n",
    "                weight = math.sqrt((nodes.get(u)[1] + nodes.get(current_node)[1])**2 + (nodes.get(u)[0] + nodes.get(current_node)[0])**2)\n",
    "                \n",
    "                if len_sh_way.get(u) > len_sh_way.get(current_node) + weight: # если от нынешней вершины до неe ближе                \n",
    "                \n",
    "                    w = len_sh_way.get(current_node) + weight\n",
    "                    len_sh_way.update({u: w}) # перезаписываем длину\n",
    "                                   \n",
    "                    mas = list(tuple(shortest_way.get(current_node)))\n",
    "                    mas.append(u)\n",
    "                    m = list(tuple(mas))\n",
    "                    shortest_way.update({u: m}) # перезаписываем путь\n",
    "                    \n",
    "            if len(nd_to_visit) == 0:\n",
    "                return shortest_way.get(b)\n",
    "                break\n",
    "        \n",
    "        else: \n",
    "            break\n",
    "        \n",
    "    return (shortest_way.get(b))"
   ]
  },
  {
   "cell_type": "code",
   "execution_count": 15,
   "metadata": {},
   "outputs": [],
   "source": [
    "#Алгоритм Левита\n",
    "from collections import deque\n",
    "\n",
    "def Levita(a, b):\n",
    "    len_sh_way = {nd: 1000000 for nd in nodes} # вершине соответствует длина пути до нее \n",
    "    len_sh_way.update({a: 0})\n",
    "    \n",
    "    shortest_way = {nd: [] for nd in nodes} #кратчайший путь от вершины a\n",
    "    shortest_way.update({a: [a]})\n",
    "    \n",
    "    nodes_already_calc = [] # M0\n",
    "    common_queue = deque((a,))       # M1'\n",
    "    rush_queue = deque()         # M1''\n",
    "    \n",
    "    nodes_not_calc = [nd for nd in nodes] # M2\n",
    "    nodes_not_calc.remove(a)\n",
    "    \n",
    "    cur_node = a\n",
    "    \n",
    "    while(len(common_queue) > 0 or len(rush_queue) > 0):\n",
    "        if len(rush_queue) > 0:\n",
    "            current_node = rush_queue.popleft()\n",
    "        else:\n",
    "            cur_node = common_queue.popleft()\n",
    "             \n",
    "        adj = list_adj.get(cur_node)\n",
    "        \n",
    "        for nd in adj:\n",
    "            w = math.sqrt((nodes.get(nd)[0] - nodes.get(cur_node)[0])**2 + (nodes.get(nd)[1] - nodes.get(cur_node)[1])**2)\n",
    "           \n",
    "            if nodes_not_calc.count(nd) > 0:\n",
    "                common_queue.append(nd)\n",
    "                nodes_not_calc.remove(nd)\n",
    "                \n",
    "                if len_sh_way.get(nd) > len_sh_way.get(cur_node) + w:\n",
    "                    \n",
    "                    len_sh_way.update({nd: len_sh_way.get(cur_node) + w})\n",
    "                    way = shortest_way.get(cur_node)[:]\n",
    "                    way.append(nd)\n",
    "                    shortest_way.update({nd: way})\n",
    "                          \n",
    "                \n",
    "            elif common_queue.count(nd) > 0 or rush_queue.count(nd) > 0:\n",
    "                if len_sh_way.get(nd) > len_sh_way.get(cur_node) + w:\n",
    "                    \n",
    "                    len_sh_way.update({nd: len_sh_way.get(cur_node) + w})\n",
    "                    way = shortest_way.get(cur_node)[:]\n",
    "                    way.append(nd)\n",
    "                    shortest_way.update({nd: way})\n",
    "                    \n",
    "            elif nodes_already_calc.count(nd) > 0 and len_sh_way.get(nd) > len_sh_way.get(cur_node) + w:\n",
    "                \n",
    "                rush_queue.append(nd)\n",
    "                nodes_already_calc.remove(nd)\n",
    "                \n",
    "                len_sh_way.update({nd: len_sh_way.get(cur_node) + w})\n",
    "                way = shortest_way.get(cur_node)[:]\n",
    "                way.append(nd)\n",
    "                shortest_way.update({nd: way})        \n",
    "                          \n",
    "        nodes_already_calc.append(cur_node)     \n",
    "                          \n",
    "    return(shortest_way.get(b))\n"
   ]
  },
  {
   "cell_type": "code",
   "execution_count": 17,
   "metadata": {},
   "outputs": [],
   "source": [
    "#отрисовка в matplotlib для моих алгоритмов\n",
    "\n",
    "def PlotResult(a, b, way):\n",
    "    fig = plt.gcf()\n",
    "    fig.set_size_inches(8, 12)    #установка большого размера полотна\n",
    "    Lon_Lat = []\n",
    "\n",
    "    #общая карта\n",
    "#     for key in list_adj:\n",
    "#         for nd in list_adj[key]:\n",
    "#             plt.plot([nodes[key][1],nodes[nd][1]], [nodes[key][0],nodes[nd][0]], 'blue')\n",
    "\n",
    "    #граничные узлы\n",
    "    plt.plot(nodes.get(a)[1], nodes.get(a)[0], 'ro')\n",
    "    plt.plot(nodes.get(b)[1], nodes.get(b)[0], 'ro')\n",
    "\n",
    "    #путь\n",
    "    for nd in way:                 #проход по узлам найденного пути\n",
    "        Lon_Lat.append([nodes.get(nd)[1], nodes.get(nd)[0]])\n",
    "    Lon_Lat = np.array(Lon_Lat)   \n",
    "    plt.plot(Lon_Lat[::, 0], Lon_Lat[::, 1], 'red')\n",
    "    Lon_Lat = []\n",
    "\n",
    "\n",
    "    plt.show()\n",
    "    "
   ]
  },
  {
   "cell_type": "code",
   "execution_count": 26,
   "metadata": {},
   "outputs": [
    {
     "name": "stdout",
     "output_type": "stream",
     "text": [
      "--- 112.773857117 seconds ---\n",
      "--- 13.2305500507 seconds ---\n"
     ]
    }
   ],
   "source": [
    "#вызов моего дейкстры и Левита\n",
    "import time\n",
    "\n",
    "start_time = time.time()\n",
    "way = Dejicstra(start, target[3])\n",
    "print(\"--- %s seconds ---\" % (time.time() - start_time))\n",
    "\n",
    "start_time = time.time()\n",
    "way = Levita(start, target[3])\n",
    "print(\"--- %s seconds ---\" % (time.time() - start_time))\n",
    "\n",
    "#в связи с плачевным временем работы моего алгоритма Дейкстры, в дальнейшем он использоваться не будет"
   ]
  },
  {
   "cell_type": "code",
   "execution_count": 18,
   "metadata": {},
   "outputs": [],
   "source": [
    "#граф в networkx\n",
    "import networkx as nx\n",
    "\n",
    "GG = nx.Graph()\n",
    "\n",
    "# добавляем узлы в граф\n",
    "for key in nodes:\n",
    "    GG.add_node(str(key),pos=tuple(nodes.get(key)))\n",
    "\n",
    "# добавляем ребра в граф\n",
    "for nd in list_adj:\n",
    "    for nod in list_adj.get(nd):\n",
    "        w = math.sqrt((nodes.get(nd)[1] + nodes.get(nod)[1])**2 + (nodes.get(nd)[0] + nodes.get(nod)[0])**2)\n",
    "        GG.add_edge(str(nd),str(nod),weight=w)\n",
    "                "
   ]
  },
  {
   "cell_type": "code",
   "execution_count": 19,
   "metadata": {},
   "outputs": [],
   "source": [
    "#словарь узлов для networkx\n",
    "nodesi = {str(key): [nodes.get(key)[1], nodes.get(key)[0]] for key in nodes}"
   ]
  },
  {
   "cell_type": "code",
   "execution_count": 20,
   "metadata": {},
   "outputs": [],
   "source": [
    "#отрисовка графа в networkx\n",
    "def DrawGraph():\n",
    "    nx.draw_networkx(GG, pos=nodesi, node_size = 0.1, width = 0.2, with_labels = False)\n",
    "    plt.axis('on')\n",
    "    plt.show()"
   ]
  },
  {
   "cell_type": "code",
   "execution_count": 30,
   "metadata": {},
   "outputs": [],
   "source": [
    "#отрисовка в networkx кратчайшего пути\n",
    "\n",
    "def DrawSaveShortestWay(GG, way, start, end):\n",
    "    nx.draw_networkx(GG, pos=nodesi, node_size = 0, width = 0.2, with_labels = False, node_color='black', edge_color='black')\n",
    "    h = GG.subgraph(way)\n",
    "    nx.draw_networkx_nodes(h,pos=nodesi, node_color='red', node_size = 2) \n",
    "    nx.draw_networkx_edges(h,pos=nodesi, edge_color='red', width = 2)\n",
    "    fig = plt.gcf()\n",
    "    fig.set_size_inches(8, 12)\n",
    "    #plt.show()\n",
    "    filename = \"ShortestWay__\" + str(start) + \"__\" + str(end) + \".png\"\n",
    "    plt.savefig(filename, dpi = 100)\n",
    "    fig.clear()\n"
   ]
  },
  {
   "cell_type": "code",
   "execution_count": 23,
   "metadata": {},
   "outputs": [],
   "source": [
    "#эвристические функции для А стар\n",
    "import math\n",
    "\n",
    "def ManhattanDist(start, finish):\n",
    "    return abs(nodes.get(float(start))[0]-nodes.get(float(finish))[0])/2 + abs(nodes.get(float(start))[1]-nodes.get(float(finish))[1])/2\n",
    "\n",
    "def ChebDist(start, finish):\n",
    "    return max(abs(nodes.get(float(start))[0]-nodes.get(float(finish))[0]), abs(nodes.get(float(start))[1]-nodes.get(float(finish))[1]))\n",
    "\n",
    "def EuklidDist(start, finish):\n",
    "    return math.sqrt((nodes.get(float(start))[0]-nodes.get(float(finish))[0])**2 + (nodes.get(float(start))[1]-nodes.get(float(finish))[1])**2)"
   ]
  },
  {
   "cell_type": "code",
   "execution_count": 52,
   "metadata": {},
   "outputs": [],
   "source": [
    "#время выполнения из networkx Дейкстры и А стар\n",
    "import time\n",
    "\n",
    "def timeDejicstra(start, target):\n",
    "    start_time = time.time()\n",
    "    Dejicstra = nx.dijkstra_path(GG, str(start), str(target))\n",
    "    return time.time() - start_time\n",
    "    #print(\"--- %s seconds ---\" % (time.time() - start_time))\n",
    "    #drawShortestWay(GG, Dejicstra,start, target[1])\n",
    "\n",
    "def timeAstarManh(start, target):\n",
    "    start_time = time.time()\n",
    "    Astar_Manh = nx.astar_path(GG, str(start), str(target), ManhattanDist)\n",
    "    return time.time() - start_time\n",
    "    #print(\"--- %s seconds ---\" % (time.time() - start_time))\n",
    "    #drawShortestWay(GG, Astar_Manh) \n",
    "\n",
    "def timeAstarCheb(start, target):\n",
    "    start_time = time.time()\n",
    "    Astar_Cheb = nx.astar_path(GG, str(start), str(target), ChebDist)\n",
    "    return time.time() - start_time\n",
    "    #print(\"--- %s seconds ---\" % (time.time() - start_time))\n",
    "    #drawShortestWay(GG, Astar_Cheb) \n",
    "\n",
    "def timeAstarEukl(start, target):\n",
    "    start_time = time.time()\n",
    "    Astar_Eukl = nx.astar_path(GG, str(start), str(target), EuklidDist) \n",
    "    return time.time() - start_time\n",
    "    #print(\"--- %s seconds ---\" % (time.time() - start_time))\n",
    "    #drawShortestWay(GG, Astar_Eukl) \n"
   ]
  },
  {
   "cell_type": "code",
   "execution_count": 32,
   "metadata": {},
   "outputs": [],
   "source": [
    "#запись получисшихся маршрутов в файл\n",
    "\n",
    "def WriteCsvFile(start, target, way):\n",
    "    filename =  \"ShortestWay__\" + str(start) + \"__\" + str(target) + \".csv\"\n",
    "    with open(filename, \"a\") as file:\n",
    "        writer = csv.writer(file)\n",
    "        writer.writerow(way)\n",
    "    "
   ]
  },
  {
   "cell_type": "code",
   "execution_count": 33,
   "metadata": {},
   "outputs": [
    {
     "data": {
      "text/plain": [
       "<matplotlib.figure.Figure at 0x7f8b38f5d750>"
      ]
     },
     "metadata": {},
     "output_type": "display_data"
    }
   ],
   "source": [
    "#маршруты до больниц с записью в файл и сохранением картинок\n",
    "\n",
    "for t in target:\n",
    "    Dejicstra = nx.dijkstra_path(GG, str(start), str(t))\n",
    "    DrawSaveShortestWay(GG, Dejicstra, str(start), str(t))\n",
    "    WriteCsvFile(str(start), str(t), Dejicstra)"
   ]
  },
  {
   "cell_type": "code",
   "execution_count": 85,
   "metadata": {},
   "outputs": [],
   "source": [
    "#выбираем 100 точек\n",
    "random = nodes.items()[1:1501:15]"
   ]
  },
  {
   "cell_type": "code",
   "execution_count": 86,
   "metadata": {},
   "outputs": [
    {
     "data": {
      "image/png": "[encoded data removed]",
      "text/plain": [
       "<matplotlib.figure.Figure at 0x7f8b3875c650>"
      ]
     },
     "metadata": {},
     "output_type": "display_data"
    }
   ],
   "source": [
    "fig = plt.gcf()\n",
    "fig.set_size_inches(8, 12)    #установка большого размера полотна\n",
    "Lon_Lat = []\n",
    "\n",
    "for r in random[1:30]:\n",
    "    plt.plot(nodes.get(r[0])[1], nodes.get(r[0])[0], 'ro')\n",
    "plt.plot(nodes.get(start)[1], nodes.get(start)[0],  'bo')\n",
    "\n",
    "plt.show()"
   ]
  },
  {
   "cell_type": "code",
   "execution_count": 78,
   "metadata": {},
   "outputs": [],
   "source": [
    "#запись статистики для 100 точек\n",
    "filename =  \"Statistics__100__points\" + \".csv\"\n",
    "\n",
    "#шапочка файла\n",
    "fieldnames = ['idNode', 'Dejicstra', 'Levit', 'AstarEuklid','AstarManh', 'AstarCheb']\n",
    "\n",
    "#запись шапочки\n",
    "with open(filename, \"w\") as file:\n",
    "    writer = csv.DictWriter(file, delimiter=',', fieldnames=fieldnames)\n",
    "    writer.writeheader()\n",
    "    \n",
    "def csv_writer(path, fieldnames, data):\n",
    "    with open(path, \"a\") as out_file:\n",
    "        writer = csv.DictWriter(out_file, delimiter=',', fieldnames=fieldnames)\n",
    "        for row in data:\n",
    "            writer.writerow(row)\n",
    "\n",
    "for nd in random:\n",
    "    cur_node = nd[0]\n",
    "    line = []\n",
    "    line_dict = []\n",
    "    dejicstr = timeDejicstra(start, cur_node)\n",
    "    aStEukl = timeAstarEukl(start, cur_node)\n",
    "    aStManh = timeAstarManh(start, cur_node)\n",
    "    aStCheb = timeAstarCheb(start, cur_node)\n",
    "    \n",
    "    start_time = time.time()\n",
    "    way = Levita(start, cur_node)\n",
    "    levit = time.time() - start_time\n",
    "    \n",
    "    #чтобы записалось с шапочкой нормально\n",
    "    line = [cur_node, dejicstr, levit, aStEukl, aStManh, aStCheb]\n",
    "    inner_dict = dict(zip(fieldnames, line))\n",
    "    line_dict.append(inner_dict)\n",
    "    csv_writer(filename, fieldnames, line_dict)\n"
   ]
  }
 ],
 "metadata": {
  "kernelspec": {
   "display_name": "Python 2",
   "language": "python",
   "name": "python2"
  },
  "language_info": {
   "codemirror_mode": {
    "name": "ipython",
    "version": 2
   },
   "file_extension": ".py",
   "mimetype": "text/x-python",
   "name": "python",
   "nbconvert_exporter": "python",
   "pygments_lexer": "ipython2",
   "version": "2.7.14"
  }
 },
 "nbformat": 4,
 "nbformat_minor": 2
}
